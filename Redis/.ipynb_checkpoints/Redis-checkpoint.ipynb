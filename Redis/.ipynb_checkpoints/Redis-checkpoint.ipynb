{
 "cells": [
  {
   "cell_type": "markdown",
   "id": "a67c8291",
   "metadata": {},
   "source": [
    "# Redis\n",
    "### Store cars data"
   ]
  },
  {
   "cell_type": "markdown",
   "id": "b4391f29",
   "metadata": {},
   "source": [
    "#### Install needed to run Redis"
   ]
  },
  {
   "cell_type": "code",
   "execution_count": null,
   "id": "4e8a03c3",
   "metadata": {},
   "outputs": [],
   "source": [
    "#!pip install redis"
   ]
  },
  {
   "cell_type": "code",
   "execution_count": null,
   "id": "ddfb81e8",
   "metadata": {},
   "outputs": [],
   "source": [
    "#!pip install flask-bootstrap"
   ]
  },
  {
   "cell_type": "markdown",
   "id": "d4802709",
   "metadata": {},
   "source": [
    "#### Preparing the data"
   ]
  },
  {
   "cell_type": "code",
   "execution_count": 1,
   "id": "dbb5887b",
   "metadata": {},
   "outputs": [],
   "source": [
    "import pandas as pd"
   ]
  },
  {
   "cell_type": "code",
   "execution_count": 2,
   "id": "dced11fd",
   "metadata": {
    "scrolled": true
   },
   "outputs": [
    {
     "data": {
      "text/html": [
       "<div>\n",
       "<style scoped>\n",
       "    .dataframe tbody tr th:only-of-type {\n",
       "        vertical-align: middle;\n",
       "    }\n",
       "\n",
       "    .dataframe tbody tr th {\n",
       "        vertical-align: top;\n",
       "    }\n",
       "\n",
       "    .dataframe thead th {\n",
       "        text-align: right;\n",
       "    }\n",
       "</style>\n",
       "<table border=\"1\" class=\"dataframe\">\n",
       "  <thead>\n",
       "    <tr style=\"text-align: right;\">\n",
       "      <th></th>\n",
       "      <th>Price</th>\n",
       "      <th>Year</th>\n",
       "      <th>Mileage</th>\n",
       "      <th>City</th>\n",
       "      <th>State</th>\n",
       "      <th>Vin</th>\n",
       "      <th>Make</th>\n",
       "      <th>Model</th>\n",
       "    </tr>\n",
       "  </thead>\n",
       "  <tbody>\n",
       "    <tr>\n",
       "      <th>0</th>\n",
       "      <td>8995</td>\n",
       "      <td>2014</td>\n",
       "      <td>35725</td>\n",
       "      <td>El Paso</td>\n",
       "      <td>TX</td>\n",
       "      <td>19VDE2E53EE000083</td>\n",
       "      <td>Acura</td>\n",
       "      <td>ILX6-Speed</td>\n",
       "    </tr>\n",
       "  </tbody>\n",
       "</table>\n",
       "</div>"
      ],
      "text/plain": [
       "   Price  Year  Mileage     City State                Vin   Make       Model\n",
       "0   8995  2014    35725  El Paso    TX  19VDE2E53EE000083  Acura  ILX6-Speed"
      ]
     },
     "execution_count": 2,
     "metadata": {},
     "output_type": "execute_result"
    }
   ],
   "source": [
    "df_carList = pd.read_csv(\"./datasets/Car_listings.csv\", delimiter=\",\")\n",
    "df_carList.head(1)"
   ]
  },
  {
   "cell_type": "markdown",
   "id": "05cd33cc",
   "metadata": {},
   "source": [
    "We can see that this dataset has a Price column, which we don't need, beacuse this is a rental company where customers doesn't buy the cars. Because of this we remove the Price column:"
   ]
  },
  {
   "cell_type": "code",
   "execution_count": 3,
   "id": "4d11bd19",
   "metadata": {
    "scrolled": true
   },
   "outputs": [
    {
     "data": {
      "text/html": [
       "<div>\n",
       "<style scoped>\n",
       "    .dataframe tbody tr th:only-of-type {\n",
       "        vertical-align: middle;\n",
       "    }\n",
       "\n",
       "    .dataframe tbody tr th {\n",
       "        vertical-align: top;\n",
       "    }\n",
       "\n",
       "    .dataframe thead th {\n",
       "        text-align: right;\n",
       "    }\n",
       "</style>\n",
       "<table border=\"1\" class=\"dataframe\">\n",
       "  <thead>\n",
       "    <tr style=\"text-align: right;\">\n",
       "      <th></th>\n",
       "      <th>Year</th>\n",
       "      <th>Mileage</th>\n",
       "      <th>City</th>\n",
       "      <th>State</th>\n",
       "      <th>Vin</th>\n",
       "      <th>Make</th>\n",
       "      <th>Model</th>\n",
       "    </tr>\n",
       "  </thead>\n",
       "  <tbody>\n",
       "    <tr>\n",
       "      <th>0</th>\n",
       "      <td>2014</td>\n",
       "      <td>35725</td>\n",
       "      <td>El Paso</td>\n",
       "      <td>TX</td>\n",
       "      <td>19VDE2E53EE000083</td>\n",
       "      <td>Acura</td>\n",
       "      <td>ILX6-Speed</td>\n",
       "    </tr>\n",
       "  </tbody>\n",
       "</table>\n",
       "</div>"
      ],
      "text/plain": [
       "   Year  Mileage     City State                Vin   Make       Model\n",
       "0  2014    35725  El Paso    TX  19VDE2E53EE000083  Acura  ILX6-Speed"
      ]
     },
     "execution_count": 3,
     "metadata": {},
     "output_type": "execute_result"
    }
   ],
   "source": [
    "df_carList = df_carList.drop(['Price'], axis = 1)\n",
    "df_carList.head(1)"
   ]
  },
  {
   "cell_type": "markdown",
   "id": "301f275f",
   "metadata": {},
   "source": [
    "#### We need to convert the csv file to JSON, so that we can store the data in redis"
   ]
  },
  {
   "cell_type": "code",
   "execution_count": 4,
   "id": "00ad77ec",
   "metadata": {},
   "outputs": [],
   "source": [
    "df_carList.to_json('./datasets/cars.json', orient='split', compression='infer', index='true')"
   ]
  },
  {
   "cell_type": "code",
   "execution_count": 5,
   "id": "28544ca5",
   "metadata": {},
   "outputs": [],
   "source": [
    "df = pd.read_json('./datasets/cars.json', orient ='split', compression = 'infer')"
   ]
  },
  {
   "cell_type": "code",
   "execution_count": 6,
   "id": "3bb70b4b",
   "metadata": {},
   "outputs": [
    {
     "data": {
      "text/html": [
       "<div>\n",
       "<style scoped>\n",
       "    .dataframe tbody tr th:only-of-type {\n",
       "        vertical-align: middle;\n",
       "    }\n",
       "\n",
       "    .dataframe tbody tr th {\n",
       "        vertical-align: top;\n",
       "    }\n",
       "\n",
       "    .dataframe thead th {\n",
       "        text-align: right;\n",
       "    }\n",
       "</style>\n",
       "<table border=\"1\" class=\"dataframe\">\n",
       "  <thead>\n",
       "    <tr style=\"text-align: right;\">\n",
       "      <th></th>\n",
       "      <th>Year</th>\n",
       "      <th>Mileage</th>\n",
       "      <th>City</th>\n",
       "      <th>State</th>\n",
       "      <th>Vin</th>\n",
       "      <th>Make</th>\n",
       "      <th>Model</th>\n",
       "    </tr>\n",
       "  </thead>\n",
       "  <tbody>\n",
       "    <tr>\n",
       "      <th>0</th>\n",
       "      <td>2014</td>\n",
       "      <td>35725</td>\n",
       "      <td>El Paso</td>\n",
       "      <td>TX</td>\n",
       "      <td>19VDE2E53EE000083</td>\n",
       "      <td>Acura</td>\n",
       "      <td>ILX6-Speed</td>\n",
       "    </tr>\n",
       "    <tr>\n",
       "      <th>1</th>\n",
       "      <td>2013</td>\n",
       "      <td>19606</td>\n",
       "      <td>Long Island City</td>\n",
       "      <td>NY</td>\n",
       "      <td>19VDE1F52DE012636</td>\n",
       "      <td>Acura</td>\n",
       "      <td>ILX5-Speed</td>\n",
       "    </tr>\n",
       "    <tr>\n",
       "      <th>2</th>\n",
       "      <td>2013</td>\n",
       "      <td>48851</td>\n",
       "      <td>El Paso</td>\n",
       "      <td>TX</td>\n",
       "      <td>19VDE2E52DE000025</td>\n",
       "      <td>Acura</td>\n",
       "      <td>ILX6-Speed</td>\n",
       "    </tr>\n",
       "    <tr>\n",
       "      <th>3</th>\n",
       "      <td>2014</td>\n",
       "      <td>39922</td>\n",
       "      <td>Windsor</td>\n",
       "      <td>CO</td>\n",
       "      <td>19VDE1F71EE003817</td>\n",
       "      <td>Acura</td>\n",
       "      <td>ILX5-Speed</td>\n",
       "    </tr>\n",
       "    <tr>\n",
       "      <th>4</th>\n",
       "      <td>2016</td>\n",
       "      <td>22142</td>\n",
       "      <td>Lindon</td>\n",
       "      <td>UT</td>\n",
       "      <td>19UDE2F32GA001284</td>\n",
       "      <td>Acura</td>\n",
       "      <td>ILXAutomatic</td>\n",
       "    </tr>\n",
       "    <tr>\n",
       "      <th>...</th>\n",
       "      <td>...</td>\n",
       "      <td>...</td>\n",
       "      <td>...</td>\n",
       "      <td>...</td>\n",
       "      <td>...</td>\n",
       "      <td>...</td>\n",
       "      <td>...</td>\n",
       "    </tr>\n",
       "    <tr>\n",
       "      <th>852117</th>\n",
       "      <td>2017</td>\n",
       "      <td>9</td>\n",
       "      <td>Culver City</td>\n",
       "      <td>CA</td>\n",
       "      <td>YV1A22MK9H1013237</td>\n",
       "      <td>Volvo</td>\n",
       "      <td>S90T6</td>\n",
       "    </tr>\n",
       "    <tr>\n",
       "      <th>852118</th>\n",
       "      <td>2017</td>\n",
       "      <td>3201</td>\n",
       "      <td>Englewood</td>\n",
       "      <td>NJ</td>\n",
       "      <td>YV4A22PL3H1186162</td>\n",
       "      <td>Volvo</td>\n",
       "      <td>XC90T6</td>\n",
       "    </tr>\n",
       "    <tr>\n",
       "      <th>852119</th>\n",
       "      <td>2016</td>\n",
       "      <td>28941</td>\n",
       "      <td>Fort Collins</td>\n",
       "      <td>CO</td>\n",
       "      <td>YV4A22PL4G1000868</td>\n",
       "      <td>Volvo</td>\n",
       "      <td>XC90AWD</td>\n",
       "    </tr>\n",
       "    <tr>\n",
       "      <th>852120</th>\n",
       "      <td>2017</td>\n",
       "      <td>3005</td>\n",
       "      <td>San Leandro</td>\n",
       "      <td>CA</td>\n",
       "      <td>YV4A22NLXH1006162</td>\n",
       "      <td>Volvo</td>\n",
       "      <td>V90</td>\n",
       "    </tr>\n",
       "    <tr>\n",
       "      <th>852121</th>\n",
       "      <td>2017</td>\n",
       "      <td>2502</td>\n",
       "      <td>New York</td>\n",
       "      <td>NY</td>\n",
       "      <td>YV4BC0ZX1H1109845</td>\n",
       "      <td>Volvo</td>\n",
       "      <td>XC90T8</td>\n",
       "    </tr>\n",
       "  </tbody>\n",
       "</table>\n",
       "<p>852122 rows × 7 columns</p>\n",
       "</div>"
      ],
      "text/plain": [
       "        Year  Mileage              City State                Vin   Make  \\\n",
       "0       2014    35725           El Paso    TX  19VDE2E53EE000083  Acura   \n",
       "1       2013    19606  Long Island City    NY  19VDE1F52DE012636  Acura   \n",
       "2       2013    48851           El Paso    TX  19VDE2E52DE000025  Acura   \n",
       "3       2014    39922           Windsor    CO  19VDE1F71EE003817  Acura   \n",
       "4       2016    22142            Lindon    UT  19UDE2F32GA001284  Acura   \n",
       "...      ...      ...               ...   ...                ...    ...   \n",
       "852117  2017        9       Culver City    CA  YV1A22MK9H1013237  Volvo   \n",
       "852118  2017     3201         Englewood    NJ  YV4A22PL3H1186162  Volvo   \n",
       "852119  2016    28941      Fort Collins    CO  YV4A22PL4G1000868  Volvo   \n",
       "852120  2017     3005       San Leandro    CA  YV4A22NLXH1006162  Volvo   \n",
       "852121  2017     2502          New York    NY  YV4BC0ZX1H1109845  Volvo   \n",
       "\n",
       "               Model  \n",
       "0         ILX6-Speed  \n",
       "1         ILX5-Speed  \n",
       "2         ILX6-Speed  \n",
       "3         ILX5-Speed  \n",
       "4       ILXAutomatic  \n",
       "...              ...  \n",
       "852117         S90T6  \n",
       "852118        XC90T6  \n",
       "852119       XC90AWD  \n",
       "852120           V90  \n",
       "852121        XC90T8  \n",
       "\n",
       "[852122 rows x 7 columns]"
      ]
     },
     "execution_count": 6,
     "metadata": {},
     "output_type": "execute_result"
    }
   ],
   "source": [
    "df"
   ]
  },
  {
   "cell_type": "code",
   "execution_count": 7,
   "id": "ad9a4b20",
   "metadata": {},
   "outputs": [],
   "source": [
    "import redis\n",
    "import json\n",
    "import time"
   ]
  },
  {
   "cell_type": "code",
   "execution_count": 8,
   "id": "7c968816",
   "metadata": {},
   "outputs": [],
   "source": [
    "r = redis.Redis(db=2)"
   ]
  },
  {
   "cell_type": "code",
   "execution_count": 9,
   "id": "f2bf5019",
   "metadata": {},
   "outputs": [
    {
     "name": "stdout",
     "output_type": "stream",
     "text": [
      "\n",
      "Data: [2014, 35725, 'El Paso', ' TX', '19VDE2E53EE000083', 'Acura', 'ILX6-Speed']\n"
     ]
    }
   ],
   "source": [
    "with open('./datasets/cars.json') as json_file:\n",
    "    data = json.load(json_file)\n",
    " \n",
    "    # Print the type of data variable\n",
    "    #print(\"Type:\", type(data))\n",
    "    \n",
    "    #print(\"ITEMS: \", data.items())\n",
    "      \n",
    "    # Print the data of dictionary\n",
    "    #print(\"\\nData:\", data['data'][0]['ID IPEDS Occupation Parent'])\n",
    "    print(\"\\nData:\", data['data'][0])"
   ]
  },
  {
   "cell_type": "code",
   "execution_count": 10,
   "id": "f9747219",
   "metadata": {},
   "outputs": [
    {
     "name": "stdout",
     "output_type": "stream",
     "text": [
      "[{'Year': 2014, 'Mileage': 35725, 'City': 'El Paso', 'State': ' TX', 'Vin': '19VDE2E53EE000083', 'Make': 'Acura', 'Model': 'ILX6-Speed'}, {'Year': 2013, 'Mileage': 19606, 'City': 'Long Island City', 'State': ' NY', 'Vin': '19VDE1F52DE012636', 'Make': 'Acura', 'Model': 'ILX5-Speed'}, {'Year': 2013, 'Mileage': 48851, 'City': 'El Paso', 'State': ' TX', 'Vin': '19VDE2E52DE000025', 'Make': 'Acura', 'Model': 'ILX6-Speed'}, {'Year': 2014, 'Mileage': 39922, 'City': 'Windsor', 'State': ' CO', 'Vin': '19VDE1F71EE003817', 'Make': 'Acura', 'Model': 'ILX5-Speed'}, {'Year': 2016, 'Mileage': 22142, 'City': 'Lindon', 'State': ' UT', 'Vin': '19UDE2F32GA001284', 'Make': 'Acura', 'Model': 'ILXAutomatic'}]\n"
     ]
    }
   ],
   "source": [
    "# Loop og give hver værdi en key som er deres kolonne navn\n",
    "columns = list(df)\n",
    "listOfDict = []\n",
    "\n",
    "def smallDictFunction(co: [], di: {}) -> {}:\n",
    "    smallDicts = {}\n",
    "    for c in co:\n",
    "        for d in di:\n",
    "            if (columns.index(c) == dic.index(d)):\n",
    "                #print(c + ': ' + str(d))\n",
    "                #print(d)\n",
    "                smallDicts[c] = d\n",
    "        \n",
    "    return smallDicts\n",
    "   \n",
    "\n",
    "for dic in data['data']:\n",
    "    listOfDict.append(smallDictFunction(columns, dic))\n",
    "    if (data['data'].index(dic)+1 == 5):\n",
    "        break    # break here\n",
    "\n",
    "\n",
    "#print(test())\n",
    "#print(smallDicts)\n",
    "print(listOfDict)\n",
    "#print(fullDict)"
   ]
  },
  {
   "cell_type": "code",
   "execution_count": 11,
   "id": "e51eb64f",
   "metadata": {},
   "outputs": [
    {
     "data": {
      "text/plain": [
       "[1, 2, 3, 4, 5]"
      ]
     },
     "execution_count": 11,
     "metadata": {},
     "output_type": "execute_result"
    }
   ],
   "source": [
    "index_list = [*range(1, (len(listOfDict)+1), 1)]\n",
    "index_list"
   ]
  },
  {
   "cell_type": "code",
   "execution_count": 12,
   "id": "27b58982",
   "metadata": {},
   "outputs": [
    {
     "name": "stdout",
     "output_type": "stream",
     "text": [
      "{1: {'Year': 2014, 'Mileage': 35725, 'City': 'El Paso', 'State': ' TX', 'Vin': '19VDE2E53EE000083', 'Make': 'Acura', 'Model': 'ILX6-Speed'}, 2: {'Year': 2013, 'Mileage': 19606, 'City': 'Long Island City', 'State': ' NY', 'Vin': '19VDE1F52DE012636', 'Make': 'Acura', 'Model': 'ILX5-Speed'}, 3: {'Year': 2013, 'Mileage': 48851, 'City': 'El Paso', 'State': ' TX', 'Vin': '19VDE2E52DE000025', 'Make': 'Acura', 'Model': 'ILX6-Speed'}, 4: {'Year': 2014, 'Mileage': 39922, 'City': 'Windsor', 'State': ' CO', 'Vin': '19VDE1F71EE003817', 'Make': 'Acura', 'Model': 'ILX5-Speed'}, 5: {'Year': 2016, 'Mileage': 22142, 'City': 'Lindon', 'State': ' UT', 'Vin': '19UDE2F32GA001284', 'Make': 'Acura', 'Model': 'ILXAutomatic'}}\n"
     ]
    }
   ],
   "source": [
    "fullDict = dict(zip(index_list, listOfDict))\n",
    "print(fullDict)"
   ]
  },
  {
   "cell_type": "code",
   "execution_count": 13,
   "id": "34c973a7",
   "metadata": {},
   "outputs": [],
   "source": [
    "with open(\"./datasets/carsDict.json\", \"w\") as write_file:\n",
    "    json.dump(fullDict, write_file, indent=4)"
   ]
  },
  {
   "cell_type": "code",
   "execution_count": 14,
   "id": "c05b46cd",
   "metadata": {},
   "outputs": [],
   "source": [
    "with open('./datasets/carsDict.json') as json_file:\n",
    "    data = json.load(json_file)"
   ]
  },
  {
   "cell_type": "code",
   "execution_count": 15,
   "id": "81db0813",
   "metadata": {},
   "outputs": [
    {
     "name": "stderr",
     "output_type": "stream",
     "text": [
      "C:\\Users\\miade\\AppData\\Local\\Temp/ipykernel_3344/3408369710.py:5: DeprecationWarning: Pipeline.hmset() is deprecated. Use Pipeline.hset() instead.\n",
      "  pipe.hmset(dic, data[dic])\n"
     ]
    },
    {
     "data": {
      "text/plain": [
       "True"
      ]
     },
     "execution_count": 15,
     "metadata": {},
     "output_type": "execute_result"
    }
   ],
   "source": [
    "with r.pipeline() as pipe:\n",
    "    for dic in data:\n",
    "        #print(dic)\n",
    "        #print(data[dic])\n",
    "        pipe.hmset(dic, data[dic])\n",
    "        pipe.execute()\n",
    "r.bgsave()"
   ]
  },
  {
   "cell_type": "code",
   "execution_count": 16,
   "id": "82ba3cbc",
   "metadata": {},
   "outputs": [
    {
     "name": "stdout",
     "output_type": "stream",
     "text": [
      "{}\n",
      "{b'Year': b'2014', b'Mileage': b'35725', b'City': b'El Paso', b'State': b' TX', b'Vin': b'19VDE2E53EE000083', b'Make': b'Acura', b'Model': b'ILX6-Speed'}\n",
      "{b'Year': b'2016', b'Mileage': b'22142', b'City': b'Lindon', b'State': b' UT', b'Vin': b'19UDE2F32GA001284', b'Make': b'Acura', b'Model': b'ILXAutomatic'}\n"
     ]
    }
   ],
   "source": [
    "print(r.hgetall(\"0\"))\n",
    "print(r.hgetall(\"1\"))\n",
    "print(r.hgetall(\"5\"))"
   ]
  },
  {
   "cell_type": "code",
   "execution_count": 19,
   "id": "fba0ed6c",
   "metadata": {
    "scrolled": true
   },
   "outputs": [
    {
     "name": "stdout",
     "output_type": "stream",
     "text": [
      "Overwriting application.py\n"
     ]
    }
   ],
   "source": [
    "%%writefile application.py\n",
    "\n",
    "from flask import Flask, request, jsonify, render_template\n",
    "import redis\n",
    "import json\n",
    "import time\n",
    "import pandas as pd\n",
    "\n",
    "app = Flask(__name__, template_folder='hmtl_documents')\n",
    "\n",
    "# ---------------- THE CODE -------------------------\n",
    "df_carList = pd.read_csv(\"./datasets/Car_listings.csv\", delimiter=\",\")\n",
    "df_carList = df_carList.drop(['Price'], axis = 1)\n",
    "\n",
    "df_carList.to_json('./datasets/cars.json', orient='split', compression='infer', index='true')\n",
    "df = pd.read_json('./datasets/cars.json', orient ='split', compression = 'infer')\n",
    "\n",
    "r = redis.Redis(db=1)\n",
    "\n",
    "with open('./datasets/cars.json') as json_file:\n",
    "    data = json.load(json_file)\n",
    "    \n",
    "# Loop og give hver værdi en key som er deres kolonne navn\n",
    "columns = list(df)\n",
    "listOfDict = []\n",
    "\n",
    "def smallDictFunction(co: [], di: {}) -> {}:\n",
    "    smallDicts = {}\n",
    "    for c in co:\n",
    "        for d in di:\n",
    "            if (columns.index(c) == dic.index(d)):\n",
    "                smallDicts[c] = d\n",
    "    return smallDicts\n",
    "   \n",
    "for dic in data['data']:\n",
    "    listOfDict.append(smallDictFunction(columns, dic))\n",
    "    if (data['data'].index(dic)+1 == 5):\n",
    "        break    # break here\n",
    "\n",
    "index_list = [*range(1, (len(listOfDict)+1), 1)]\n",
    "fullDict = dict(zip(index_list, listOfDict))\n",
    "\n",
    "with open(\"./datasets/carsDict.json\", \"w\") as write_file:\n",
    "    json.dump(fullDict, write_file, indent=4)\n",
    "\n",
    "with open('./datasets/carsDict.json') as json_file:\n",
    "    data = json.load(json_file)\n",
    "\n",
    "with r.pipeline() as pipe:\n",
    "    for dic in data:\n",
    "        #print(dic)\n",
    "        #print(data[dic])\n",
    "        pipe.hmset(dic, data[dic])\n",
    "        pipe.execute()\n",
    "r.bgsave()\n",
    "\n",
    "def getData(n1, n2):\n",
    "    dataList = []\n",
    "    tic = time.perf_counter()\n",
    "    for n in range(int(n1), int(n2)+1):\n",
    "        #print(n)\n",
    "        #print(r.hgetall(str(n)))\n",
    "        d = r.hgetall(str(n))\n",
    "        dataList.append(d)\n",
    "    toc = time.perf_counter()\n",
    "    dataList.append(toc - tic)\n",
    "    return dataList\n",
    "\n",
    "def getAttributes():\n",
    "    tic = time.perf_counter()\n",
    "    unPrettyList = list(r.hgetall('1'))\n",
    "    toc = time.perf_counter()\n",
    "    prettyList = []\n",
    "    for s in unPrettyList:\n",
    "        txt = str(s).split(\"'\")\n",
    "        prettyList.append(txt[1])\n",
    "    time2 = toc - tic\n",
    "    prettyList.append(time2)\n",
    "    return prettyList\n",
    "\n",
    "def getBySpecificAtt(n, s):\n",
    "    tic = time.perf_counter()\n",
    "    string = r.hget(n,s)\n",
    "    toc = time.perf_counter()\n",
    "    time2 = toc - tic\n",
    "    txt = str(string).split(\"'\")\n",
    "    \n",
    "    dataList = []\n",
    "    dataList.append(txt[1])\n",
    "    dataList.append(time2)\n",
    "    return dataList\n",
    "\n",
    "\n",
    "# ---------------- THE ENDPOINTS --------------------\n",
    "@app.route('/')\n",
    "def start():\n",
    "    attributes = getAttributes()\n",
    "    \n",
    "    return render_template('start.html', attributes=attributes[1:-1], time=attributes[-1])\n",
    "\n",
    "@app.route('/data', methods=['GET', 'POST'])\n",
    "def data():\n",
    "    if request.method == 'POST':\n",
    "        n1 = request.form['n1']\n",
    "        n2 = request.form['n2']\n",
    "        data = getData(n1, n2)\n",
    "          \n",
    "        return render_template(\"data.html\", data=data[int(n1):int(n2)], time=data[-1])\n",
    "    \n",
    "@app.route('/specificData', methods=['GET', 'POST'])\n",
    "def specificData():\n",
    "    if request.method == 'POST':\n",
    "        n = request.form['n']\n",
    "        s = request.form['s']\n",
    "        data = getBySpecificAtt(n, s)\n",
    "          \n",
    "        return render_template(\"specificData.html\", data=data[0], time=data[1])\n",
    "\n",
    "@app.route('/redis', methods=['GET', 'POST'])\n",
    "def predict():\n",
    "    if request.method == 'GET':\n",
    "        data = request.data\n",
    "    return render_template('redis.html', carsDict=data)\n",
    "\n",
    "if __name__ == '__main__':\n",
    "    app.run(debug=True)"
   ]
  },
  {
   "cell_type": "markdown",
   "id": "bf5f914d",
   "metadata": {},
   "source": [
    "http://localhost:5000/"
   ]
  },
  {
   "cell_type": "code",
   "execution_count": 20,
   "id": "bc5a5db7",
   "metadata": {},
   "outputs": [
    {
     "name": "stdout",
     "output_type": "stream",
     "text": [
      "^C\n"
     ]
    }
   ],
   "source": [
    "!python application.py"
   ]
  }
 ],
 "metadata": {
  "kernelspec": {
   "display_name": "Python 3 (ipykernel)",
   "language": "python",
   "name": "python3"
  },
  "language_info": {
   "codemirror_mode": {
    "name": "ipython",
    "version": 3
   },
   "file_extension": ".py",
   "mimetype": "text/x-python",
   "name": "python",
   "nbconvert_exporter": "python",
   "pygments_lexer": "ipython3",
   "version": "3.9.7"
  }
 },
 "nbformat": 4,
 "nbformat_minor": 5
}
