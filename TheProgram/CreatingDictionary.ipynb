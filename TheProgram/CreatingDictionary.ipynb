{
 "cells": [
  {
   "cell_type": "code",
   "execution_count": 1,
   "id": "b72b0702",
   "metadata": {},
   "outputs": [],
   "source": [
    "import pandas as pd\n",
    "import redis\n",
    "import json\n",
    "import time"
   ]
  },
  {
   "cell_type": "code",
   "execution_count": 2,
   "id": "bd7a97ca",
   "metadata": {},
   "outputs": [],
   "source": [
    "df_carList = pd.read_csv(\"./datasets/Car_listings.csv\", delimiter=\",\")"
   ]
  },
  {
   "cell_type": "code",
   "execution_count": 3,
   "id": "0c9ffd87",
   "metadata": {},
   "outputs": [],
   "source": [
    "df_carList = df_carList.drop(['Price'], axis = 1)"
   ]
  },
  {
   "cell_type": "code",
   "execution_count": 4,
   "id": "3986c765",
   "metadata": {},
   "outputs": [],
   "source": [
    "df_carList.to_json('./datasets/cars.json', orient='split', compression='infer', index='true')"
   ]
  },
  {
   "cell_type": "code",
   "execution_count": 5,
   "id": "2667e28c",
   "metadata": {},
   "outputs": [],
   "source": [
    "df = pd.read_json('./datasets/cars.json', orient ='split', compression = 'infer')"
   ]
  },
  {
   "cell_type": "code",
   "execution_count": 7,
   "id": "d6c5f87f",
   "metadata": {},
   "outputs": [],
   "source": [
    "r = redis.Redis(db=2)"
   ]
  },
  {
   "cell_type": "code",
   "execution_count": 8,
   "id": "67bc989a",
   "metadata": {},
   "outputs": [
    {
     "name": "stdout",
     "output_type": "stream",
     "text": [
      "\n",
      "Data: [2014, 35725, 'El Paso', ' TX', '19VDE2E53EE000083', 'Acura', 'ILX6-Speed']\n"
     ]
    }
   ],
   "source": [
    "with open('./datasets/cars.json') as json_file:\n",
    "    data = json.load(json_file)\n",
    "    print(\"\\nData:\", data['data'][0])"
   ]
  },
  {
   "cell_type": "code",
   "execution_count": null,
   "id": "2d38c014",
   "metadata": {},
   "outputs": [],
   "source": [
    "listOfDict = []\n",
    "for dic in data['data']:\n",
    "    dicti = dict(zip(list(df), dic))\n",
    "    listOfDict.append(dicti)\n",
    "    if (data['data'].index(dic)+1 == 200000):\n",
    "        break    # break here\n",
    "print(len(listOfDict))"
   ]
  },
  {
   "cell_type": "code",
   "execution_count": 15,
   "id": "1c7c95f2",
   "metadata": {},
   "outputs": [
    {
     "name": "stdout",
     "output_type": "stream",
     "text": [
      "852122\n"
     ]
    }
   ],
   "source": [
    "index_list = [*range(1, (len(listOfDict)+1), 1)]\n",
    "print(len(index_list))"
   ]
  },
  {
   "cell_type": "code",
   "execution_count": 17,
   "id": "9083606b",
   "metadata": {},
   "outputs": [],
   "source": [
    "fullDict = dict(zip(index_list, listOfDict))"
   ]
  },
  {
   "cell_type": "code",
   "execution_count": 19,
   "id": "94fa9588",
   "metadata": {},
   "outputs": [],
   "source": [
    "with open(\"./datasets/carsDict.json\", \"w\") as write_file:\n",
    "    json.dump(fullDict, write_file, indent=4)"
   ]
  },
  {
   "cell_type": "code",
   "execution_count": 20,
   "id": "486f333f",
   "metadata": {},
   "outputs": [],
   "source": [
    "with open('./datasets/carsDict.json') as json_file:\n",
    "    data = json.load(json_file)"
   ]
  },
  {
   "cell_type": "code",
   "execution_count": 21,
   "id": "f4860c09",
   "metadata": {},
   "outputs": [
    {
     "name": "stderr",
     "output_type": "stream",
     "text": [
      "C:\\Users\\miade\\AppData\\Local\\Temp/ipykernel_5884/3408369710.py:5: DeprecationWarning: Pipeline.hmset() is deprecated. Use Pipeline.hset() instead.\n",
      "  pipe.hmset(dic, data[dic])\n"
     ]
    },
    {
     "data": {
      "text/plain": [
       "True"
      ]
     },
     "execution_count": 21,
     "metadata": {},
     "output_type": "execute_result"
    }
   ],
   "source": [
    "with r.pipeline() as pipe:\n",
    "    for dic in data:\n",
    "        #print(dic)\n",
    "        #print(data[dic])\n",
    "        pipe.hmset(dic, data[dic])\n",
    "        pipe.execute()\n",
    "r.bgsave()"
   ]
  }
 ],
 "metadata": {
  "kernelspec": {
   "display_name": "Python 3 (ipykernel)",
   "language": "python",
   "name": "python3"
  },
  "language_info": {
   "codemirror_mode": {
    "name": "ipython",
    "version": 3
   },
   "file_extension": ".py",
   "mimetype": "text/x-python",
   "name": "python",
   "nbconvert_exporter": "python",
   "pygments_lexer": "ipython3",
   "version": "3.9.7"
  }
 },
 "nbformat": 4,
 "nbformat_minor": 5
}
